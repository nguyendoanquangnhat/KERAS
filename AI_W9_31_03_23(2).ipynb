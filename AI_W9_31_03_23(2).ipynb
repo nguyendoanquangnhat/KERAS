{
  "cells": [
    {
      "cell_type": "markdown",
      "metadata": {
        "id": "view-in-github",
        "colab_type": "text"
      },
      "source": [
        "<a href=\"https://colab.research.google.com/github/nguyendoanquangnhat/KERAS/blob/main/AI_W9_31_03_23(2).ipynb\" target=\"_parent\"><img src=\"https://colab.research.google.com/assets/colab-badge.svg\" alt=\"Open In Colab\"/></a>"
      ]
    },
    {
      "cell_type": "code",
      "execution_count": null,
      "metadata": {
        "colab": {
          "background_save": true
        },
        "id": "yhLnNaG6nr6q"
      },
      "outputs": [],
      "source": [
        "from keras.datasets import cifar10\n",
        "import matplotlib.pyplot as plt\n",
        "\n",
        "(x_train,y_train),(x_test,y_test)=cifar10.load_data()\n",
        "print('x_train:', x_train.shape)\n",
        "print('y_train:', y_train.shape)\n",
        "print('x_test:', x_test.shape)\n",
        "print('y_test:', y_test.shape)\n",
        "\n",
        "digit=x_train[9999]\n",
        "plt.imshow(digit)\n",
        "#plt.show\n",
        "print(y_train[9999])"
      ]
    },
    {
      "cell_type": "code",
      "execution_count": null,
      "metadata": {
        "colab": {
          "background_save": true
        },
        "id": "SSgVa1Wspqlg"
      },
      "outputs": [],
      "source": [
        "for i in range(5):\n",
        "  plt.subplot(5,10,i+1)\n",
        "  plt.tight_layout\n",
        "  plt.imshow(x_train[i],cmap='gray',interpolation='None')\n",
        "  plt.title('{}'.format(y_train[i]))\n",
        "  plt.xticks([])\n",
        "  plt.yticks([])"
      ]
    },
    {
      "cell_type": "code",
      "execution_count": null,
      "metadata": {
        "colab": {
          "background_save": true
        },
        "id": "Bg4xHEIvqEne"
      },
      "outputs": [],
      "source": [
        "x_train=x_train.reshape((50000,32*32*3))\n",
        "x_train=x_train.astype('float32')/255\n",
        "x_test=x_test.reshape((10000,32*32*3))\n",
        "x_test=x_test.astype('float32')/255\n",
        "\n",
        "print(x_train.shape)\n",
        "print(x_test.shape)"
      ]
    },
    {
      "cell_type": "code",
      "execution_count": null,
      "metadata": {
        "colab": {
          "background_save": true
        },
        "id": "SnParbnErfht"
      },
      "outputs": [],
      "source": [
        "from keras.models import Sequential     #Sequential: mô tả mạng ANN theo tuần tự\n",
        "from keras.layers import Dense          #Dense: full connected\n",
        "\n",
        "model=Sequential()\n",
        "model.add(Dense(10000,activation='relu',input_shape=(32*32*3,)))\n",
        "model.add(Dense(9000,activation='relu',input_shape=(10000,)))\n",
        "model.add(Dense(8000,activation='relu',input_shape=(9000,)))\n",
        "model.add(Dense(7000,activation='relu',input_shape=(8000,)))\n",
        "model.add(Dense(6000,activation='relu',input_shape=(7000,)))\n",
        "model.add(Dense(5000,activation='relu',input_shape=(6000,)))\n",
        "model.add(Dense(4000,activation='relu',input_shape=(5000,)))\n",
        "model.add(Dense(10,activation='softmax'))\n",
        "model.summary()"
      ]
    },
    {
      "cell_type": "code",
      "execution_count": null,
      "metadata": {
        "colab": {
          "background_save": true
        },
        "id": "4yBhIvyLtM7K"
      },
      "outputs": [],
      "source": [
        "from keras.utils import to_categorical\n",
        "y_train=to_categorical(y_train,10)\n",
        "y_test=to_categorical(y_test,10)\n",
        "print(y_train)"
      ]
    },
    {
      "cell_type": "code",
      "execution_count": null,
      "metadata": {
        "colab": {
          "background_save": true
        },
        "id": "bJOJkJnSuVgM"
      },
      "outputs": [],
      "source": [
        "print('x_train:', x_train.shape)\n",
        "print('y_train:', y_train.shape)\n",
        "print('x_test:', x_test.shape)\n",
        "print('y_test:', y_test.shape)"
      ]
    },
    {
      "cell_type": "code",
      "execution_count": null,
      "metadata": {
        "colab": {
          "background_save": true,
          "base_uri": "https://localhost:8080/"
        },
        "id": "yth-iBCOs5A9",
        "outputId": "439aeb1e-8520-4ec0-d0bb-2a8b204536da"
      },
      "outputs": [
        {
          "name": "stdout",
          "output_type": "stream",
          "text": [
            "Epoch 1/20\n",
            "391/391 [==============================] - 87s 221ms/step - loss: 2.1790 - accuracy: 0.1607\n",
            "Epoch 2/20\n",
            "391/391 [==============================] - 75s 193ms/step - loss: 2.0242 - accuracy: 0.2399\n",
            "Epoch 3/20\n",
            "391/391 [==============================] - 74s 189ms/step - loss: 1.8833 - accuracy: 0.3146\n",
            "Epoch 4/20\n",
            "391/391 [==============================] - 73s 186ms/step - loss: 1.8043 - accuracy: 0.3469\n",
            "Epoch 5/20\n",
            "391/391 [==============================] - 69s 177ms/step - loss: 1.7423 - accuracy: 0.3731\n",
            "Epoch 6/20\n",
            "391/391 [==============================] - 70s 179ms/step - loss: 1.6930 - accuracy: 0.3963\n",
            "Epoch 7/20\n",
            "391/391 [==============================] - 71s 181ms/step - loss: 1.6566 - accuracy: 0.4097\n",
            "Epoch 8/20\n",
            "391/391 [==============================] - 70s 179ms/step - loss: 1.6110 - accuracy: 0.4252\n",
            "Epoch 9/20\n",
            "391/391 [==============================] - 70s 180ms/step - loss: 1.5718 - accuracy: 0.4420\n",
            "Epoch 10/20\n",
            "391/391 [==============================] - 71s 180ms/step - loss: 1.5427 - accuracy: 0.4533\n",
            "Epoch 11/20\n",
            "391/391 [==============================] - 69s 177ms/step - loss: 1.5047 - accuracy: 0.4650\n",
            "Epoch 12/20\n",
            "391/391 [==============================] - 69s 177ms/step - loss: 1.4797 - accuracy: 0.4735\n",
            "Epoch 13/20\n",
            "391/391 [==============================] - 71s 181ms/step - loss: 1.4532 - accuracy: 0.4872\n",
            "Epoch 14/20\n",
            "391/391 [==============================] - 70s 178ms/step - loss: 1.4185 - accuracy: 0.4962\n",
            "Epoch 15/20\n",
            "391/391 [==============================] - 70s 180ms/step - loss: 1.3903 - accuracy: 0.5113\n",
            "Epoch 16/20\n",
            "391/391 [==============================] - 70s 179ms/step - loss: 1.3584 - accuracy: 0.5194\n",
            "Epoch 17/20\n",
            "391/391 [==============================] - 69s 177ms/step - loss: 1.3334 - accuracy: 0.5267\n",
            "Epoch 18/20\n",
            "391/391 [==============================] - 71s 181ms/step - loss: 1.3050 - accuracy: 0.5403\n",
            "Epoch 19/20\n",
            "391/391 [==============================] - 70s 179ms/step - loss: 1.2777 - accuracy: 0.5478\n",
            "Epoch 20/20\n",
            "391/391 [==============================] - 70s 179ms/step - loss: 1.2445 - accuracy: 0.5614\n",
            "313/313 [==============================] - 7s 22ms/step - loss: 1.5861 - accuracy: 0.4704\n",
            "Loss: 1.5860815048217773\n",
            "Accuracy: 0.47040000557899475\n"
          ]
        }
      ],
      "source": [
        "model.compile(optimizer='rmsprop',loss='categorical_crossentropy',metrics=['accuracy'])  \n",
        "model.fit(x_train,y_train,epochs=20,batch_size=128)  \n",
        "test_loss,test_acc=model.evaluate(x_test,y_test)\n",
        "print('Loss:',test_loss)\n",
        "print('Accuracy:',test_acc)"
      ]
    },
    {
      "cell_type": "code",
      "execution_count": null,
      "metadata": {
        "colab": {
          "background_save": true
        },
        "id": "5IhZ-0VBwLuf"
      },
      "outputs": [],
      "source": [
        "model.save('test1.h5')"
      ]
    },
    {
      "cell_type": "code",
      "execution_count": null,
      "metadata": {
        "colab": {
          "background_save": true
        },
        "id": "jjelzUiMwSGu",
        "outputId": "29d64c41-a232-490c-9da3-71effded084e"
      },
      "outputs": [
        {
          "ename": "FileNotFoundError",
          "evalue": "ignored",
          "output_type": "error",
          "traceback": [
            "\u001b[0;31m---------------------------------------------------------------------------\u001b[0m",
            "\u001b[0;31mFileNotFoundError\u001b[0m                         Traceback (most recent call last)",
            "\u001b[0;32m<ipython-input-85-6eee59a6e62f>\u001b[0m in \u001b[0;36m<cell line: 2>\u001b[0;34m()\u001b[0m\n\u001b[1;32m      1\u001b[0m \u001b[0;31m#model10=load_model('test1.h5')\u001b[0m\u001b[0;34m\u001b[0m\u001b[0;34m\u001b[0m\u001b[0m\n\u001b[0;32m----> 2\u001b[0;31m \u001b[0mimg\u001b[0m\u001b[0;34m=\u001b[0m\u001b[0mplt\u001b[0m\u001b[0;34m.\u001b[0m\u001b[0mimread\u001b[0m\u001b[0;34m(\u001b[0m\u001b[0;34m'/content/tải xuống.jpg'\u001b[0m\u001b[0;34m)\u001b[0m\u001b[0;34m\u001b[0m\u001b[0;34m\u001b[0m\u001b[0m\n\u001b[0m\u001b[1;32m      3\u001b[0m \u001b[0mplt\u001b[0m\u001b[0;34m.\u001b[0m\u001b[0mimshow\u001b[0m\u001b[0;34m(\u001b[0m\u001b[0mimg\u001b[0m\u001b[0;34m)\u001b[0m\u001b[0;34m\u001b[0m\u001b[0;34m\u001b[0m\u001b[0m\n\u001b[1;32m      4\u001b[0m \u001b[0mplt\u001b[0m\u001b[0;34m.\u001b[0m\u001b[0mshow\u001b[0m\u001b[0;34m(\u001b[0m\u001b[0;34m)\u001b[0m\u001b[0;34m\u001b[0m\u001b[0;34m\u001b[0m\u001b[0m\n",
            "\u001b[0;32m/usr/local/lib/python3.9/dist-packages/matplotlib/pyplot.py\u001b[0m in \u001b[0;36mimread\u001b[0;34m(fname, format)\u001b[0m\n\u001b[1;32m   2193\u001b[0m \u001b[0;34m@\u001b[0m\u001b[0m_copy_docstring_and_deprecators\u001b[0m\u001b[0;34m(\u001b[0m\u001b[0mmatplotlib\u001b[0m\u001b[0;34m.\u001b[0m\u001b[0mimage\u001b[0m\u001b[0;34m.\u001b[0m\u001b[0mimread\u001b[0m\u001b[0;34m)\u001b[0m\u001b[0;34m\u001b[0m\u001b[0;34m\u001b[0m\u001b[0m\n\u001b[1;32m   2194\u001b[0m \u001b[0;32mdef\u001b[0m \u001b[0mimread\u001b[0m\u001b[0;34m(\u001b[0m\u001b[0mfname\u001b[0m\u001b[0;34m,\u001b[0m \u001b[0mformat\u001b[0m\u001b[0;34m=\u001b[0m\u001b[0;32mNone\u001b[0m\u001b[0;34m)\u001b[0m\u001b[0;34m:\u001b[0m\u001b[0;34m\u001b[0m\u001b[0;34m\u001b[0m\u001b[0m\n\u001b[0;32m-> 2195\u001b[0;31m     \u001b[0;32mreturn\u001b[0m \u001b[0mmatplotlib\u001b[0m\u001b[0;34m.\u001b[0m\u001b[0mimage\u001b[0m\u001b[0;34m.\u001b[0m\u001b[0mimread\u001b[0m\u001b[0;34m(\u001b[0m\u001b[0mfname\u001b[0m\u001b[0;34m,\u001b[0m \u001b[0mformat\u001b[0m\u001b[0;34m)\u001b[0m\u001b[0;34m\u001b[0m\u001b[0;34m\u001b[0m\u001b[0m\n\u001b[0m\u001b[1;32m   2196\u001b[0m \u001b[0;34m\u001b[0m\u001b[0m\n\u001b[1;32m   2197\u001b[0m \u001b[0;34m\u001b[0m\u001b[0m\n",
            "\u001b[0;32m/usr/local/lib/python3.9/dist-packages/matplotlib/image.py\u001b[0m in \u001b[0;36mimread\u001b[0;34m(fname, format)\u001b[0m\n\u001b[1;32m   1561\u001b[0m             \u001b[0;34m\"``np.array(PIL.Image.open(urllib.request.urlopen(url)))``.\"\u001b[0m\u001b[0;34m\u001b[0m\u001b[0;34m\u001b[0m\u001b[0m\n\u001b[1;32m   1562\u001b[0m             )\n\u001b[0;32m-> 1563\u001b[0;31m     \u001b[0;32mwith\u001b[0m \u001b[0mimg_open\u001b[0m\u001b[0;34m(\u001b[0m\u001b[0mfname\u001b[0m\u001b[0;34m)\u001b[0m \u001b[0;32mas\u001b[0m \u001b[0mimage\u001b[0m\u001b[0;34m:\u001b[0m\u001b[0;34m\u001b[0m\u001b[0;34m\u001b[0m\u001b[0m\n\u001b[0m\u001b[1;32m   1564\u001b[0m         return (_pil_png_to_float_array(image)\n\u001b[1;32m   1565\u001b[0m                 \u001b[0;32mif\u001b[0m \u001b[0misinstance\u001b[0m\u001b[0;34m(\u001b[0m\u001b[0mimage\u001b[0m\u001b[0;34m,\u001b[0m \u001b[0mPIL\u001b[0m\u001b[0;34m.\u001b[0m\u001b[0mPngImagePlugin\u001b[0m\u001b[0;34m.\u001b[0m\u001b[0mPngImageFile\u001b[0m\u001b[0;34m)\u001b[0m \u001b[0;32melse\u001b[0m\u001b[0;34m\u001b[0m\u001b[0;34m\u001b[0m\u001b[0m\n",
            "\u001b[0;32m/usr/local/lib/python3.9/dist-packages/PIL/Image.py\u001b[0m in \u001b[0;36mopen\u001b[0;34m(fp, mode, formats)\u001b[0m\n\u001b[1;32m   2973\u001b[0m \u001b[0;34m\u001b[0m\u001b[0m\n\u001b[1;32m   2974\u001b[0m     \u001b[0;32mif\u001b[0m \u001b[0mfilename\u001b[0m\u001b[0;34m:\u001b[0m\u001b[0;34m\u001b[0m\u001b[0;34m\u001b[0m\u001b[0m\n\u001b[0;32m-> 2975\u001b[0;31m         \u001b[0mfp\u001b[0m \u001b[0;34m=\u001b[0m \u001b[0mbuiltins\u001b[0m\u001b[0;34m.\u001b[0m\u001b[0mopen\u001b[0m\u001b[0;34m(\u001b[0m\u001b[0mfilename\u001b[0m\u001b[0;34m,\u001b[0m \u001b[0;34m\"rb\"\u001b[0m\u001b[0;34m)\u001b[0m\u001b[0;34m\u001b[0m\u001b[0;34m\u001b[0m\u001b[0m\n\u001b[0m\u001b[1;32m   2976\u001b[0m         \u001b[0mexclusive_fp\u001b[0m \u001b[0;34m=\u001b[0m \u001b[0;32mTrue\u001b[0m\u001b[0;34m\u001b[0m\u001b[0;34m\u001b[0m\u001b[0m\n\u001b[1;32m   2977\u001b[0m \u001b[0;34m\u001b[0m\u001b[0m\n",
            "\u001b[0;31mFileNotFoundError\u001b[0m: [Errno 2] No such file or directory: '/content/tải xuống.jpg'"
          ]
        }
      ],
      "source": [
        "#model10=load_model('test1.h5')\n",
        "img=plt.imread('/content/tải xuống.jpg')\n",
        "plt.imshow(img)\n",
        "plt.show()"
      ]
    },
    {
      "cell_type": "code",
      "execution_count": null,
      "metadata": {
        "colab": {
          "background_save": true
        },
        "id": "_xxEANl-xiuH"
      },
      "outputs": [],
      "source": [
        "from keras.utils import load_img\n",
        "from keras.utils import img_to_array\n",
        "import numpy as np\n",
        "\n",
        "img=load_img('111.jpg',target_size=(32,32))\n",
        "img=img_to_array(img)\n",
        "img=img.reshape(1,32*32*3)\n",
        "img=img.astype('float32')\n",
        "img=img/255\n",
        "np.argmax(model.predict(img),axis=-1)"
      ]
    }
  ],
  "metadata": {
    "colab": {
      "provenance": [],
      "authorship_tag": "ABX9TyOZAs4CfcHHoKcGtEcSg1Yw",
      "include_colab_link": true
    },
    "kernelspec": {
      "display_name": "Python 3",
      "name": "python3"
    },
    "language_info": {
      "name": "python"
    }
  },
  "nbformat": 4,
  "nbformat_minor": 0
}